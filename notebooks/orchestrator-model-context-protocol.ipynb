{
 "cells": [
  {
   "cell_type": "markdown",
   "id": "5f8e255c",
   "metadata": {},
   "source": [
    "### Semantic Kernel Agent using MCP Tools via Azure API Management"
   ]
  },
  {
   "cell_type": "markdown",
   "id": "beaf5964",
   "metadata": {},
   "source": [
    "Model Context Protocol with Azure API Management to enable plug & play of tools for a Semantic Kernel Agent\n",
    "![flow](../utils/media/model-context-protocol.gif)"
   ]
  },
  {
   "cell_type": "markdown",
   "id": "d8990338",
   "metadata": {},
   "source": [
    "0️⃣ Initialize Modules"
   ]
  },
  {
   "cell_type": "code",
   "execution_count": 1,
   "id": "9efeebc4",
   "metadata": {},
   "outputs": [],
   "source": [
    "import asyncio\n",
    "from semantic_kernel.agents import ChatCompletionAgent, ChatHistoryAgentThread\n",
    "from semantic_kernel.connectors.ai.open_ai import AzureChatCompletion\n",
    "from semantic_kernel.connectors.mcp import MCPSsePlugin\n",
    "from dotenv import load_dotenv\n",
    "import os\n",
    "\n",
    "load_dotenv(override=True)\n",
    "\n",
    "apim_resource_gateway_url=os.getenv(\"APIM_RESOURCE_GATEWAY_URL\")\n",
    "mcp_server_url=\"http://localhost:8080/agent\"\n",
    "apim_subscription_key=os.getenv(\"APIM_SUBSCRIPTION_KEY\")\n",
    "openai_api_version=os.getenv(\"AZURE_OPENAI_API_VERSION\")               \n",
    "openai_deployment_name=os.getenv(\"AZURE_OPENAI_DEPLOYMENT_NAME\")"
   ]
  },
  {
   "cell_type": "markdown",
   "id": "7de7bdec",
   "metadata": {},
   "source": [
    "1️⃣ Create the Semantic Kernel Orchestrator"
   ]
  },
  {
   "cell_type": "code",
   "execution_count": 2,
   "id": "b3d29263",
   "metadata": {},
   "outputs": [],
   "source": [
    "async def main(user_input: str):\n",
    "    # 1. Create the agent\n",
    "    async with MCPSsePlugin(\n",
    "        name=\"AgentPlugin\",\n",
    "        url=f\"{mcp_server_url}/sse\",\n",
    "        description=\"Menu Agent Plugin\",\n",
    "    ) as agent_plugin:\n",
    "              \n",
    "        orchestrator = ChatCompletionAgent(\n",
    "            service=AzureChatCompletion(\n",
    "                endpoint=apim_resource_gateway_url,\n",
    "                api_key=apim_subscription_key,\n",
    "                api_version=openai_api_version,                \n",
    "                deployment_name=openai_deployment_name\n",
    "            ),\n",
    "            name=\"Orchestrator\",\n",
    "            instructions=\"Route the request to the appropriate agent.\",\n",
    "            plugins=[agent_plugin],\n",
    "        )\n",
    "\n",
    "        thread: ChatHistoryAgentThread | None = None\n",
    "\n",
    "        print(f\"# User: {user_input}\")\n",
    "        # 2. Invoke the agent for a response\n",
    "        response = await orchestrator.get_response(messages=user_input, thread=thread)\n",
    "        print(f\"# {response.name}: {response} \")\n",
    "        thread = response.thread # type: ignore\n",
    "\n",
    "        # 3. Cleanup: Clear the thread\n",
    "        await thread.delete() if thread else None\n"
   ]
  },
  {
   "cell_type": "code",
   "execution_count": null,
   "id": "80f0ae6c",
   "metadata": {},
   "outputs": [
    {
     "name": "stderr",
     "output_type": "stream",
     "text": [
      "Error in post_writer: Client error '404 Not Found' for url 'http://localhost:8080/messages/?session_id=0f4b2dfaecc6460fabe05f781745e2c4'\n",
      "For more information check: https://developer.mozilla.org/en-US/docs/Web/HTTP/Status/404\n"
     ]
    }
   ],
   "source": [
    "user_input = \"Specials from the menu\"\n",
    "await main(user_input)"
   ]
  },
  {
   "cell_type": "code",
   "execution_count": null,
   "id": "25776770",
   "metadata": {},
   "outputs": [
    {
     "name": "stderr",
     "output_type": "stream",
     "text": [
      "Error in post_writer: Client error '404 Not Found' for url 'http://localhost:8080/messages/?session_id=f1cf314173f545ada78d1ed8394f413a'\n",
      "For more information check: https://developer.mozilla.org/en-US/docs/Web/HTTP/Status/404\n"
     ]
    }
   ],
   "source": [
    "import os, json, asyncio, time, requests\n",
    "from mcp import ClientSession\n",
    "from mcp.client.sse import sse_client\n",
    "import nest_asyncio\n",
    "nest_asyncio.apply()\n",
    "\n",
    "async def list_tools(server_url, authorization_header = None):\n",
    "    headers = {\"Authorization\": authorization_header} if authorization_header else None\n",
    "    async with sse_client(server_url, headers) as streams:\n",
    "        async with ClientSession(streams[0], streams[1]) as session:\n",
    "            await session.initialize()\n",
    "\n",
    "            response = await session.list_tools()\n",
    "            tools = response.tools\n",
    "    print(f\"✅ Connected to server {server_url}\")\n",
    "    print(\"⚙️ Tools:\")\n",
    "    for tool in tools:\n",
    "        print(f\"  - {tool.name}\")\n",
    "        print(f\"     Input Schema: {tool.inputSchema}\")\n",
    "    \n",
    "asyncio.run(list_tools(f\"{mcp_server_url}/sse\"))"
   ]
  },
  {
   "cell_type": "code",
   "execution_count": null,
   "id": "9a250c85",
   "metadata": {},
   "outputs": [],
   "source": []
  }
 ],
 "metadata": {
  "kernelspec": {
   "display_name": ".venv",
   "language": "python",
   "name": "python3"
  },
  "language_info": {
   "codemirror_mode": {
    "name": "ipython",
    "version": 3
   },
   "file_extension": ".py",
   "mimetype": "text/x-python",
   "name": "python",
   "nbconvert_exporter": "python",
   "pygments_lexer": "ipython3",
   "version": "3.11.0rc2"
  }
 },
 "nbformat": 4,
 "nbformat_minor": 5
}
