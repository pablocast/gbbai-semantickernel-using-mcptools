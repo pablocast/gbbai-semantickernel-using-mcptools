{
 "cells": [
  {
   "cell_type": "markdown",
   "id": "5f8e255c",
   "metadata": {},
   "source": [
    "### Semantic Kernel Agent using MCP Tools via Azure API Management"
   ]
  },
  {
   "cell_type": "markdown",
   "id": "beaf5964",
   "metadata": {},
   "source": [
    "Model Context Protocol with Azure API Management to enable plug & play of tools for a Semantic Kernel Agent"
   ]
  },
  {
   "cell_type": "markdown",
   "id": "d8990338",
   "metadata": {},
   "source": [
    "0️⃣ Initialize Modules"
   ]
  },
  {
   "cell_type": "code",
   "execution_count": 1,
   "id": "9efeebc4",
   "metadata": {},
   "outputs": [],
   "source": [
    "import asyncio\n",
    "from semantic_kernel.agents import ChatCompletionAgent, ChatHistoryAgentThread\n",
    "from semantic_kernel.contents import ChatHistorySummarizationReducer\n",
    "from semantic_kernel.connectors.ai.open_ai import AzureChatCompletion\n",
    "from semantic_kernel.connectors.mcp import MCPSsePlugin\n",
    "from dotenv import load_dotenv\n",
    "import os\n",
    "\n",
    "load_dotenv(override=True)\n",
    "\n",
    "apim_resource_gateway_url=os.getenv(\"APIM_RESOURCE_GATEWAY_URL\")\n",
    "apim_subscription_key=os.getenv(\"APIM_SUBSCRIPTION_KEY\")\n",
    "openai_api_version=os.getenv(\"AZURE_OPENAI_API_VERSION\")               \n",
    "openai_deployment_name=os.getenv(\"AZURE_OPENAI_DEPLOYMENT_NAME\")"
   ]
  },
  {
   "cell_type": "markdown",
   "id": "7de7bdec",
   "metadata": {},
   "source": [
    "1️⃣ Create the Semantic Kernel Orchestrator"
   ]
  },
  {
   "cell_type": "code",
   "execution_count": 2,
   "id": "b3d29263",
   "metadata": {},
   "outputs": [],
   "source": [
    "async def main(user_input: str):\n",
    "    # 1. Create the agent\n",
    "    async with MCPSsePlugin(\n",
    "        name=\"AgentPlugin\",\n",
    "        url=f\"{apim_resource_gateway_url}/agent/sse\",\n",
    "        description=\"Menu Agent Plugin\",\n",
    "    ) as agent_plugin, \\\n",
    "    MCPSsePlugin(\n",
    "        name=\"AnotherPlugin\",\n",
    "        url=f\"{apim_resource_gateway_url}/weather/sse\",\n",
    "        description=\"Weather Plugin\",\n",
    "    ) as weather_plugin:\n",
    "              \n",
    "        orchestrator = ChatCompletionAgent(\n",
    "            service=AzureChatCompletion(\n",
    "                endpoint=apim_resource_gateway_url,\n",
    "                api_key=apim_subscription_key,\n",
    "                api_version=openai_api_version,                \n",
    "                deployment_name=openai_deployment_name\n",
    "            ),\n",
    "            name=\"Orchestrator\",\n",
    "            instructions=\"Route the request to the appropriate agent.\",\n",
    "            plugins=[agent_plugin, weather_plugin],\n",
    "        )\n",
    "\n",
    "        thread: ChatHistoryAgentThread | None = None\n",
    "\n",
    "        print(f\"# User: {user_input}\")\n",
    "        # 2. Invoke the agent for a response\n",
    "        response = await orchestrator.get_response(messages=user_input, thread=thread)\n",
    "        print(f\"# {response.name}: {response} \")\n",
    "        thread = response.thread  # type: ignore\n",
    "\n",
    "        # 3. Cleanup: Clear the thread\n",
    "        await thread.delete() if thread else None\n"
   ]
  },
  {
   "cell_type": "code",
   "execution_count": 3,
   "id": "80f0ae6c",
   "metadata": {},
   "outputs": [
    {
     "name": "stdout",
     "output_type": "stream",
     "text": [
      "# User: What are special itens in the menu?\n",
      "# Orchestrator: The special items on the menu are:\n",
      "\n",
      "- Special Soup: Clam Chowder\n",
      "- Special Salad: Cobb Salad\n",
      "- Special Drink: Chai Tea\n",
      "\n",
      "Let me know if you'd like more details or prices for any of these specials! \n"
     ]
    }
   ],
   "source": [
    "user_input = \"What are special itens in the menu?\"\n",
    "await main(user_input)"
   ]
  },
  {
   "cell_type": "code",
   "execution_count": 4,
   "id": "9f4205d9",
   "metadata": {},
   "outputs": [
    {
     "name": "stdout",
     "output_type": "stream",
     "text": [
      "# User: What is the weather in lisbon?\n",
      "# Orchestrator: The weather in Lisbon is currently cloudy, with a temperature of about 1.9°C and humidity at 92.7%. If you need a more detailed forecast or specific date, just let me know! \n"
     ]
    }
   ],
   "source": [
    "user_input = \"What is the weather in lisbon?\"\n",
    "await main(user_input)"
   ]
  },
  {
   "cell_type": "code",
   "execution_count": 5,
   "id": "d1031bd9",
   "metadata": {},
   "outputs": [
    {
     "name": "stdout",
     "output_type": "stream",
     "text": [
      "# User: What are special itens in the menu? What is the weather in lisbon?\n",
      "# Orchestrator: Here are the answers to your questions:\n",
      "\n",
      "Special items on the menu:\n",
      "- Special Soup: Clam Chowder\n",
      "- Special Salad: Cobb Salad\n",
      "- Special Drink: Chai Tea\n",
      "\n",
      "Current weather in Lisbon:\n",
      "- Condition: Windy\n",
      "- Temperature: -0.83°C\n",
      "- Humidity: 34.79%\n",
      "\n",
      "Let me know if you want more details about the menu specials or anything else! \n"
     ]
    }
   ],
   "source": [
    "user_input = \"What are special itens in the menu? What is the weather in lisbon?\"\n",
    "await main(user_input)"
   ]
  }
 ],
 "metadata": {
  "kernelspec": {
   "display_name": ".venv",
   "language": "python",
   "name": "python3"
  },
  "language_info": {
   "codemirror_mode": {
    "name": "ipython",
    "version": 3
   },
   "file_extension": ".py",
   "mimetype": "text/x-python",
   "name": "python",
   "nbconvert_exporter": "python",
   "pygments_lexer": "ipython3",
   "version": "3.11.0rc2"
  }
 },
 "nbformat": 4,
 "nbformat_minor": 5
}
