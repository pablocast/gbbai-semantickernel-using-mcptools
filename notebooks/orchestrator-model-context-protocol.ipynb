{
 "cells": [
  {
   "cell_type": "markdown",
   "id": "5f8e255c",
   "metadata": {},
   "source": [
    "### Semantic Kernel Agent using MCP Tools via Azure API Management"
   ]
  },
  {
   "cell_type": "markdown",
   "id": "beaf5964",
   "metadata": {},
   "source": [
    "Model Context Protocol with Azure API Management to enable plug & play of tools for a Semantic Kernel Agent\n",
    "![flow](../utils/media/model-context-protocol.gif)"
   ]
  },
  {
   "cell_type": "markdown",
   "id": "b3d29263",
   "metadata": {},
   "source": []
  }
 ],
 "metadata": {
  "kernelspec": {
   "display_name": ".venv",
   "language": "python",
   "name": "python3"
  },
  "language_info": {
   "name": "python",
   "version": "3.11.0"
  }
 },
 "nbformat": 4,
 "nbformat_minor": 5
}
