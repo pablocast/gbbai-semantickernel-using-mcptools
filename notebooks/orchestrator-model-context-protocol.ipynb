{
 "cells": [
  {
   "cell_type": "markdown",
   "id": "5f8e255c",
   "metadata": {},
   "source": [
    "### Semantic Kernel Agent using MCP Tools via Azure API Management"
   ]
  },
  {
   "cell_type": "markdown",
   "id": "beaf5964",
   "metadata": {},
   "source": [
    "Model Context Protocol with Azure API Management to enable plug & play of tools for a Semantic Kernel Agent\n",
    "![flow](../utils/media/model-context-protocol.gif)"
   ]
  },
  {
   "cell_type": "markdown",
   "id": "d8990338",
   "metadata": {},
   "source": [
    "0️⃣ Initialize Modules"
   ]
  },
  {
   "cell_type": "code",
   "execution_count": 32,
   "id": "9efeebc4",
   "metadata": {},
   "outputs": [],
   "source": [
    "import asyncio\n",
    "from semantic_kernel.agents import ChatCompletionAgent, ChatHistoryAgentThread\n",
    "from semantic_kernel.contents import ChatHistorySummarizationReducer\n",
    "from semantic_kernel.connectors.ai.open_ai import AzureChatCompletion\n",
    "from semantic_kernel.connectors.mcp import MCPSsePlugin\n",
    "from dotenv import load_dotenv\n",
    "import os\n",
    "\n",
    "load_dotenv(override=True)\n",
    "\n",
    "apim_resource_gateway_url=os.getenv(\"APIM_RESOURCE_GATEWAY_URL\")\n",
    "apim_subscription_key=os.getenv(\"APIM_SUBSCRIPTION_KEY\")\n",
    "openai_api_version=os.getenv(\"AZURE_OPENAI_API_VERSION\")               \n",
    "openai_deployment_name=os.getenv(\"AZURE_OPENAI_DEPLOYMENT_NAME\")"
   ]
  },
  {
   "cell_type": "markdown",
   "id": "7de7bdec",
   "metadata": {},
   "source": [
    "1️⃣ Create the Semantic Kernel Orchestrator"
   ]
  },
  {
   "cell_type": "code",
   "execution_count": 41,
   "id": "b3d29263",
   "metadata": {},
   "outputs": [],
   "source": [
    "async def main(user_input: str):\n",
    "    # 1. Create the agent\n",
    "    async with MCPSsePlugin(\n",
    "        name=\"AgentPlugin\",\n",
    "        url=f\"{apim_resource_gateway_url}/agent/sse\",\n",
    "        description=\"Menu Agent Plugin\",\n",
    "    ) as agent_plugin, \\\n",
    "    MCPSsePlugin(\n",
    "        name=\"AnotherPlugin\",\n",
    "        url=f\"{apim_resource_gateway_url}/weather/sse\",\n",
    "        description=\"Weather Plugin\",\n",
    "    ) as weather_plugin:\n",
    "              \n",
    "        orchestrator = ChatCompletionAgent(\n",
    "            service=AzureChatCompletion(\n",
    "                endpoint=apim_resource_gateway_url,\n",
    "                api_key=apim_subscription_key,\n",
    "                api_version=openai_api_version,                \n",
    "                deployment_name=openai_deployment_name\n",
    "            ),\n",
    "            name=\"Orchestrator\",\n",
    "            instructions=\"Route the request to the appropriate agent.\",\n",
    "            plugins=[agent_plugin, weather_plugin],\n",
    "        )\n",
    "\n",
    "        thread: ChatHistoryAgentThread | None = None\n",
    "\n",
    "        print(f\"# User: {user_input}\")\n",
    "        # 2. Invoke the agent for a response\n",
    "        response = await orchestrator.get_response(messages=user_input, thread=thread)\n",
    "        print(f\"# {response.name}: {response} \")\n",
    "        thread = response.thread  # type: ignore\n",
    "\n",
    "        # 3. Cleanup: Clear the thread\n",
    "        await thread.delete() if thread else None\n"
   ]
  },
  {
   "cell_type": "code",
   "execution_count": 40,
   "id": "80f0ae6c",
   "metadata": {},
   "outputs": [
    {
     "name": "stderr",
     "output_type": "stream",
     "text": [
      "  + Exception Group Traceback (most recent call last):\n",
      "  |   File \"c:\\Users\\pablocastao\\OneDrive - Microsoft\\Work\\Clients\\promigas\\gbbai-semantickernel-using-mcptools\\.venv\\Lib\\site-packages\\semantic_kernel\\connectors\\mcp.py\", line 203, in connect\n",
      "  |     transport = await self._exit_stack.enter_async_context(self.get_mcp_client())\n",
      "  |                 ^^^^^^^^^^^^^^^^^^^^^^^^^^^^^^^^^^^^^^^^^^^^^^^^^^^^^^^^^^^^^^^^^\n",
      "  |   File \"C:\\Users\\pablocastao\\AppData\\Local\\Programs\\Python\\Python311\\Lib\\contextlib.py\", line 635, in enter_async_context\n",
      "  |     result = await _enter(cm)\n",
      "  |              ^^^^^^^^^^^^^^^^\n",
      "  |   File \"C:\\Users\\pablocastao\\AppData\\Local\\Programs\\Python\\Python311\\Lib\\contextlib.py\", line 204, in __aenter__\n",
      "  |     return await anext(self.gen)\n",
      "  |            ^^^^^^^^^^^^^^^^^^^^^\n",
      "  |   File \"c:\\Users\\pablocastao\\OneDrive - Microsoft\\Work\\Clients\\promigas\\gbbai-semantickernel-using-mcptools\\.venv\\Lib\\site-packages\\mcp\\client\\sse.py\", line 43, in sse_client\n",
      "  |     async with anyio.create_task_group() as tg:\n",
      "  |   File \"c:\\Users\\pablocastao\\OneDrive - Microsoft\\Work\\Clients\\promigas\\gbbai-semantickernel-using-mcptools\\.venv\\Lib\\site-packages\\anyio\\_backends\\_asyncio.py\", line 772, in __aexit__\n",
      "  |     raise BaseExceptionGroup(\n",
      "  | ExceptionGroup: unhandled errors in a TaskGroup (1 sub-exception)\n",
      "  +-+---------------- 1 ----------------\n",
      "    | Traceback (most recent call last):\n",
      "    |   File \"C:\\Users\\pablocastao\\AppData\\Local\\Programs\\Python\\Python311\\Lib\\contextlib.py\", line 222, in __aexit__\n",
      "    |     await self.gen.athrow(typ, value, traceback)\n",
      "    |   File \"C:\\Users\\pablocastao\\AppData\\Local\\Programs\\Python\\Python311\\Lib\\contextlib.py\", line 222, in __aexit__\n",
      "    |     await self.gen.athrow(typ, value, traceback)\n",
      "    |   File \"c:\\Users\\pablocastao\\OneDrive - Microsoft\\Work\\Clients\\promigas\\gbbai-semantickernel-using-mcptools\\.venv\\Lib\\site-packages\\httpx\\_client.py\", line 1590, in stream\n",
      "    |     yield response\n",
      "    |   File \"c:\\Users\\pablocastao\\OneDrive - Microsoft\\Work\\Clients\\promigas\\gbbai-semantickernel-using-mcptools\\.venv\\Lib\\site-packages\\httpx_sse\\_api.py\", line 70, in aconnect_sse\n",
      "    |     yield EventSource(response)\n",
      "    |   File \"c:\\Users\\pablocastao\\OneDrive - Microsoft\\Work\\Clients\\promigas\\gbbai-semantickernel-using-mcptools\\.venv\\Lib\\site-packages\\mcp\\client\\sse.py\", line 53, in sse_client\n",
      "    |     event_source.response.raise_for_status()\n",
      "    |   File \"c:\\Users\\pablocastao\\OneDrive - Microsoft\\Work\\Clients\\promigas\\gbbai-semantickernel-using-mcptools\\.venv\\Lib\\site-packages\\httpx\\_models.py\", line 829, in raise_for_status\n",
      "    |     raise HTTPStatusError(message, request=request, response=self)\n",
      "    | httpx.HTTPStatusError: Client error '404 Not Found' for url 'https://aca-agent-nrvuvpewdyhfa.salmondune-c9148cd2.eastus2.azurecontainerapps.io/agent/sse'\n",
      "    | For more information check: https://developer.mozilla.org/en-US/docs/Web/HTTP/Status/404\n",
      "    +------------------------------------\n",
      "\n",
      "The above exception was the direct cause of the following exception:\n",
      "\n",
      "Traceback (most recent call last):\n",
      "  File \"c:\\Users\\pablocastao\\OneDrive - Microsoft\\Work\\Clients\\promigas\\gbbai-semantickernel-using-mcptools\\.venv\\Lib\\site-packages\\IPython\\core\\interactiveshell.py\", line 3668, in run_code\n",
      "    await eval(code_obj, self.user_global_ns, self.user_ns)\n",
      "  File \"C:\\Users\\pablocastao\\AppData\\Local\\Temp\\ipykernel_27060\\1596027838.py\", line 2, in <module>\n",
      "    await main(user_input)\n",
      "  File \"C:\\Users\\pablocastao\\AppData\\Local\\Temp\\ipykernel_27060\\3034719722.py\", line 3, in main\n",
      "    async with MCPSsePlugin(\n",
      "  File \"c:\\Users\\pablocastao\\OneDrive - Microsoft\\Work\\Clients\\promigas\\gbbai-semantickernel-using-mcptools\\.venv\\Lib\\site-packages\\semantic_kernel\\connectors\\mcp.py\", line 420, in __aenter__\n",
      "    await self.connect()\n",
      "  File \"c:\\Users\\pablocastao\\OneDrive - Microsoft\\Work\\Clients\\promigas\\gbbai-semantickernel-using-mcptools\\.venv\\Lib\\site-packages\\semantic_kernel\\connectors\\mcp.py\", line 206, in connect\n",
      "    raise KernelPluginInvalidConfigurationError(\n",
      "semantic_kernel.exceptions.kernel_exceptions.KernelPluginInvalidConfigurationError: Failed to connect to the MCP server. Please check your configuration.\n"
     ]
    }
   ],
   "source": [
    "user_input = \"What are special itens in the menu?\"\n",
    "await main(user_input)"
   ]
  },
  {
   "cell_type": "code",
   "execution_count": null,
   "id": "18a1a747",
   "metadata": {},
   "outputs": [],
   "source": []
  },
  {
   "cell_type": "code",
   "execution_count": 35,
   "id": "9f4205d9",
   "metadata": {},
   "outputs": [
    {
     "name": "stderr",
     "output_type": "stream",
     "text": [
      "  + Exception Group Traceback (most recent call last):\n",
      "  |   File \"c:\\Users\\pablocastao\\OneDrive - Microsoft\\Work\\Clients\\promigas\\gbbai-semantickernel-using-mcptools\\.venv\\Lib\\site-packages\\semantic_kernel\\connectors\\mcp.py\", line 203, in connect\n",
      "  |     transport = await self._exit_stack.enter_async_context(self.get_mcp_client())\n",
      "  |                 ^^^^^^^^^^^^^^^^^^^^^^^^^^^^^^^^^^^^^^^^^^^^^^^^^^^^^^^^^^^^^^^^^\n",
      "  |   File \"C:\\Users\\pablocastao\\AppData\\Local\\Programs\\Python\\Python311\\Lib\\contextlib.py\", line 635, in enter_async_context\n",
      "  |     result = await _enter(cm)\n",
      "  |              ^^^^^^^^^^^^^^^^\n",
      "  |   File \"C:\\Users\\pablocastao\\AppData\\Local\\Programs\\Python\\Python311\\Lib\\contextlib.py\", line 204, in __aenter__\n",
      "  |     return await anext(self.gen)\n",
      "  |            ^^^^^^^^^^^^^^^^^^^^^\n",
      "  |   File \"c:\\Users\\pablocastao\\OneDrive - Microsoft\\Work\\Clients\\promigas\\gbbai-semantickernel-using-mcptools\\.venv\\Lib\\site-packages\\mcp\\client\\sse.py\", line 43, in sse_client\n",
      "  |     async with anyio.create_task_group() as tg:\n",
      "  |   File \"c:\\Users\\pablocastao\\OneDrive - Microsoft\\Work\\Clients\\promigas\\gbbai-semantickernel-using-mcptools\\.venv\\Lib\\site-packages\\anyio\\_backends\\_asyncio.py\", line 772, in __aexit__\n",
      "  |     raise BaseExceptionGroup(\n",
      "  | ExceptionGroup: unhandled errors in a TaskGroup (1 sub-exception)\n",
      "  +-+---------------- 1 ----------------\n",
      "    | Traceback (most recent call last):\n",
      "    |   File \"C:\\Users\\pablocastao\\AppData\\Local\\Programs\\Python\\Python311\\Lib\\contextlib.py\", line 222, in __aexit__\n",
      "    |     await self.gen.athrow(typ, value, traceback)\n",
      "    |   File \"C:\\Users\\pablocastao\\AppData\\Local\\Programs\\Python\\Python311\\Lib\\contextlib.py\", line 222, in __aexit__\n",
      "    |     await self.gen.athrow(typ, value, traceback)\n",
      "    |   File \"c:\\Users\\pablocastao\\OneDrive - Microsoft\\Work\\Clients\\promigas\\gbbai-semantickernel-using-mcptools\\.venv\\Lib\\site-packages\\httpx\\_client.py\", line 1590, in stream\n",
      "    |     yield response\n",
      "    |   File \"c:\\Users\\pablocastao\\OneDrive - Microsoft\\Work\\Clients\\promigas\\gbbai-semantickernel-using-mcptools\\.venv\\Lib\\site-packages\\httpx_sse\\_api.py\", line 70, in aconnect_sse\n",
      "    |     yield EventSource(response)\n",
      "    |   File \"c:\\Users\\pablocastao\\OneDrive - Microsoft\\Work\\Clients\\promigas\\gbbai-semantickernel-using-mcptools\\.venv\\Lib\\site-packages\\mcp\\client\\sse.py\", line 53, in sse_client\n",
      "    |     event_source.response.raise_for_status()\n",
      "    |   File \"c:\\Users\\pablocastao\\OneDrive - Microsoft\\Work\\Clients\\promigas\\gbbai-semantickernel-using-mcptools\\.venv\\Lib\\site-packages\\httpx\\_models.py\", line 829, in raise_for_status\n",
      "    |     raise HTTPStatusError(message, request=request, response=self)\n",
      "    | httpx.HTTPStatusError: Client error '404 Not Found' for url 'https://apim-nrvuvpewdyhfa.azure-api.net/agent/sse'\n",
      "    | For more information check: https://developer.mozilla.org/en-US/docs/Web/HTTP/Status/404\n",
      "    +------------------------------------\n",
      "\n",
      "The above exception was the direct cause of the following exception:\n",
      "\n",
      "Traceback (most recent call last):\n",
      "  File \"c:\\Users\\pablocastao\\OneDrive - Microsoft\\Work\\Clients\\promigas\\gbbai-semantickernel-using-mcptools\\.venv\\Lib\\site-packages\\IPython\\core\\interactiveshell.py\", line 3668, in run_code\n",
      "    await eval(code_obj, self.user_global_ns, self.user_ns)\n",
      "  File \"C:\\Users\\pablocastao\\AppData\\Local\\Temp\\ipykernel_27060\\2106667515.py\", line 2, in <module>\n",
      "    await main(user_input)\n",
      "  File \"C:\\Users\\pablocastao\\AppData\\Local\\Temp\\ipykernel_27060\\4002897793.py\", line 3, in main\n",
      "    async with MCPSsePlugin(\n",
      "  File \"c:\\Users\\pablocastao\\OneDrive - Microsoft\\Work\\Clients\\promigas\\gbbai-semantickernel-using-mcptools\\.venv\\Lib\\site-packages\\semantic_kernel\\connectors\\mcp.py\", line 420, in __aenter__\n",
      "    await self.connect()\n",
      "  File \"c:\\Users\\pablocastao\\OneDrive - Microsoft\\Work\\Clients\\promigas\\gbbai-semantickernel-using-mcptools\\.venv\\Lib\\site-packages\\semantic_kernel\\connectors\\mcp.py\", line 206, in connect\n",
      "    raise KernelPluginInvalidConfigurationError(\n",
      "semantic_kernel.exceptions.kernel_exceptions.KernelPluginInvalidConfigurationError: Failed to connect to the MCP server. Please check your configuration.\n"
     ]
    }
   ],
   "source": [
    "user_input = \"What is the weather in lisbon?\"\n",
    "await main(user_input)"
   ]
  }
 ],
 "metadata": {
  "kernelspec": {
   "display_name": ".venv",
   "language": "python",
   "name": "python3"
  },
  "language_info": {
   "codemirror_mode": {
    "name": "ipython",
    "version": 3
   },
   "file_extension": ".py",
   "mimetype": "text/x-python",
   "name": "python",
   "nbconvert_exporter": "python",
   "pygments_lexer": "ipython3",
   "version": "3.11.0rc2"
  }
 },
 "nbformat": 4,
 "nbformat_minor": 5
}
